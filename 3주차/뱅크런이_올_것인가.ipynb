{
  "nbformat": 4,
  "nbformat_minor": 0,
  "metadata": {
    "colab": {
      "provenance": [],
      "toc_visible": true,
      "authorship_tag": "ABX9TyMzc9qeDVLMq3TLmNDQYRxb",
      "include_colab_link": true
    },
    "kernelspec": {
      "name": "python3",
      "display_name": "Python 3"
    },
    "language_info": {
      "name": "python"
    },
    "gpuClass": "standard"
  },
  "cells": [
    {
      "cell_type": "markdown",
      "metadata": {
        "id": "view-in-github",
        "colab_type": "text"
      },
      "source": [
        "<a href=\"https://colab.research.google.com/github/zzhining/stock_market_analysis/blob/main/3%EC%A3%BC%EC%B0%A8/%EB%B1%85%ED%81%AC%EB%9F%B0%EC%9D%B4_%EC%98%AC_%EA%B2%83%EC%9D%B8%EA%B0%80.ipynb\" target=\"_parent\"><img src=\"https://colab.research.google.com/assets/colab-badge.svg\" alt=\"Open In Colab\"/></a>"
      ]
    },
    {
      "cell_type": "code",
      "source": [
        "from IPython.display import YouTubeVideo, display\n",
        "video = YouTubeVideo(\"A40a6IZcS9o\", width=500)\n",
        "display(video)"
      ],
      "metadata": {
        "id": "8ufOo41-t10v"
      },
      "execution_count": null,
      "outputs": []
    },
    {
      "cell_type": "markdown",
      "source": [
        "# 환경설정"
      ],
      "metadata": {
        "id": "zFzLrIdMPBjN"
      }
    },
    {
      "cell_type": "code",
      "execution_count": null,
      "metadata": {
        "id": "Z6WHcj9ZO2br",
        "collapsed": true
      },
      "outputs": [],
      "source": [
        "!pip install pandas-datareader\n",
        "!pip install yfinance"
      ]
    },
    {
      "cell_type": "markdown",
      "source": [
        "# SIVB 데이터 가져오기"
      ],
      "metadata": {
        "id": "XZ5bi0LwtbuZ"
      }
    },
    {
      "cell_type": "code",
      "source": [
        "from pandas_datareader import data\n",
        "import yfinance as yfin\n",
        "\n",
        "yfin.pdr_override()\n",
        "\n",
        "df = data.get_data_yahoo('코드를 입력하세요')\n",
        "df.tail()"
      ],
      "metadata": {
        "id": "yr4yn43wO-E2"
      },
      "execution_count": null,
      "outputs": []
    },
    {
      "cell_type": "markdown",
      "source": [
        "## 데이터프레임 plot()"
      ],
      "metadata": {
        "id": "4U20yl4RuXLN"
      }
    },
    {
      "cell_type": "code",
      "source": [
        "'코드를 입력하세요'"
      ],
      "metadata": {
        "id": "kBNFYLeQPmrY"
      },
      "execution_count": null,
      "outputs": []
    },
    {
      "cell_type": "markdown",
      "source": [
        "## plotly\n"
      ],
      "metadata": {
        "id": "5cex0mHpubSv"
      }
    },
    {
      "cell_type": "markdown",
      "source": [
        "### line()\n",
        "\n",
        "- 'Close' 시각화\n",
        "\n"
      ],
      "metadata": {
        "id": "IGlHA5_qu2KS"
      }
    },
    {
      "cell_type": "code",
      "source": [
        "import plotly.express as px\n",
        "\n",
        "fig = '코드를 입력하세요'\n",
        "fig.show()"
      ],
      "metadata": {
        "id": "y8bQrMf3PogH"
      },
      "execution_count": null,
      "outputs": []
    },
    {
      "cell_type": "markdown",
      "source": [
        "### bar()\n",
        "- 'Volume' 시각화"
      ],
      "metadata": {
        "id": "1Lcg1a_LufFh"
      }
    },
    {
      "cell_type": "code",
      "source": [
        "fig = '코드를 입력하세요'\n",
        "fig.show()"
      ],
      "metadata": {
        "id": "oiC_Ya3lV2gB"
      },
      "execution_count": null,
      "outputs": []
    },
    {
      "cell_type": "markdown",
      "source": [
        "### line() with Rageslider\n"
      ],
      "metadata": {
        "id": "PE_LcAG_usQe"
      }
    },
    {
      "cell_type": "code",
      "source": [
        "fig = px.line(df, y='Close', title='Time Series with Rangeslider')\n",
        "\n",
        "'코드를 입력하세요'\n",
        "fig.show()"
      ],
      "metadata": {
        "id": "s1BnOj-9QZFR"
      },
      "execution_count": null,
      "outputs": []
    },
    {
      "cell_type": "markdown",
      "source": [
        "### line() with button()"
      ],
      "metadata": {
        "id": "qBEADJCKu9l5"
      }
    },
    {
      "cell_type": "code",
      "source": [
        "fig = px.line(df, y='Close', title='Time Series with Rangeslider')\n",
        "\n",
        "fig.update_xaxes(\n",
        "    '코드를 입력하세요'=True,\n",
        "    '코드를 입력하세요'=dict(\n",
        "        '코드를 입력하세요'=list([\n",
        "            dict(count=1, label=\"1m\", step=\"month\", stepmode=\"backward\"),\n",
        "            dict(count=6, label=\"6m\", step=\"month\", stepmode=\"backward\"),\n",
        "            dict(count=1, label=\"YTD\", step=\"year\", stepmode=\"todate\"),\n",
        "            dict(count=1, label=\"1y\", step=\"year\", stepmode=\"backward\"),\n",
        "            dict(step=\"all\")\n",
        "        ])\n",
        "    )\n",
        ")\n",
        "fig.show()"
      ],
      "metadata": {
        "id": "uwzdDu76RHij",
        "collapsed": true
      },
      "execution_count": null,
      "outputs": []
    },
    {
      "cell_type": "markdown",
      "source": [
        "### subplot()"
      ],
      "metadata": {
        "id": "YFOsYCskvExQ"
      }
    },
    {
      "cell_type": "code",
      "source": [
        "from plotly.subplots import make_subplots\n",
        "import plotly.graph_objects as go\n",
        "\n",
        "# Create figure with secondary y-axis\n",
        "fig = '코드를 입력하세요'(specs=[[{\"secondary_y\": True}]])\n",
        "\n",
        "# Add traces\n",
        "fig.add_trace(\n",
        "    '코드를 입력하세요'\n",
        ")\n",
        "\n",
        "# Add traces\n",
        "fig.add_trace(\n",
        "    '코드를 입력하세요'\n",
        ")\n",
        "\n",
        "fig.update_xaxes(\n",
        "    rangeslider_visible=True,\n",
        "    rangeselector=dict(\n",
        "        buttons=list([\n",
        "            dict(count=1, label=\"1m\", step=\"month\", stepmode=\"backward\"),\n",
        "            dict(count=6, label=\"6m\", step=\"month\", stepmode=\"backward\"),\n",
        "            dict(count=1, label=\"YTD\", step=\"year\", stepmode=\"todate\"),\n",
        "            dict(count=1, label=\"1y\", step=\"year\", stepmode=\"backward\"),\n",
        "            dict(step=\"all\")\n",
        "        ])\n",
        "    )\n",
        ")\n",
        "\n",
        "# Set y-axes titles\n",
        "fig.update_yaxes(title_text=\"<b>Close</b> axis\", secondary_y=False)\n",
        "fig.update_yaxes(title_text=\"<b>Volume</b> axis\", secondary_y=True)\n",
        "\n",
        "fig.show()"
      ],
      "metadata": {
        "id": "v8LO09-cWXgy"
      },
      "execution_count": null,
      "outputs": []
    },
    {
      "cell_type": "markdown",
      "source": [
        "### candlestick()"
      ],
      "metadata": {
        "id": "3Jgeu7vCvIVE"
      }
    },
    {
      "cell_type": "code",
      "source": [
        "import pandas as pd\n",
        "from datetime import datetime\n",
        "\n",
        "fig = go.Figure('코드를 입력하세요')\n",
        "\n",
        "fig.show()"
      ],
      "metadata": {
        "id": "arMPSeHJRP0h"
      },
      "execution_count": null,
      "outputs": []
    },
    {
      "cell_type": "markdown",
      "source": [
        "# 주요 금융주 추이 확인하기"
      ],
      "metadata": {
        "id": "v2LjGkqZvMe5"
      }
    },
    {
      "cell_type": "markdown",
      "source": [
        "## 데이터 가져오기"
      ],
      "metadata": {
        "id": "gmfsvM3fvPiw"
      }
    },
    {
      "cell_type": "code",
      "source": [
        "bank_tickers = ['SIVB',\n",
        "                'JPM', # JP Morgan \n",
        "                'BAC', # Bank of America\n",
        "                'CCBG', # Capital City Bank Group\n",
        "                'AXP' # American Express Company\n",
        "                 ]\n",
        "df = pd.DataFrame()\n",
        "for ticker in bank_tickers:\n",
        "    temp = data.get_data_yahoo(ticker, start = '2020-01-01')['Close']\n",
        "    df = pd.merge(df, temp, right_index=True, left_index=True, how='outer', suffixes=('', ticker))"
      ],
      "metadata": {
        "id": "sVg-YJ_VVNeZ"
      },
      "execution_count": null,
      "outputs": []
    },
    {
      "cell_type": "code",
      "source": [
        "df"
      ],
      "metadata": {
        "id": "OFxk4y89cK5w"
      },
      "execution_count": null,
      "outputs": []
    },
    {
      "cell_type": "markdown",
      "source": [
        "`Close`를 제외하고 티커로 컬럼명 바꾸기 "
      ],
      "metadata": {
        "id": "2AAy4n-bvV5s"
      }
    },
    {
      "cell_type": "code",
      "source": [
        "df.set_axis(labels=bank_tickers, axis=1, inplace = True)\n",
        "df.head()"
      ],
      "metadata": {
        "id": "LK_rXoNGcUUW"
      },
      "execution_count": null,
      "outputs": []
    },
    {
      "cell_type": "markdown",
      "source": [
        "## 5개 금융주 시각화하기"
      ],
      "metadata": {
        "id": "1PvgsLWUvcjr"
      }
    },
    {
      "cell_type": "code",
      "source": [
        "import plotly.express as px\n",
        "fig = px.line(df, x=df.index, y=df.columns)\n",
        "fig.update_xaxes(\n",
        "    dtick=\"M1\",\n",
        "    tickformat=\"%b\\n%Y\")\n",
        "fig.show()"
      ],
      "metadata": {
        "id": "lJbbXi4Gg6Vk"
      },
      "execution_count": null,
      "outputs": []
    },
    {
      "cell_type": "markdown",
      "source": [
        "## 스케일 맞춰주기"
      ],
      "metadata": {
        "id": "rnrWeIMZvn9Y"
      }
    },
    {
      "cell_type": "code",
      "source": [
        "from sklearn.preprocessing import MinMaxScaler\n",
        "\n",
        "scaler = '코드를 입력하세요'\n",
        "scaled_data = scaler.fit_transform('코드를 입력하세요')\n",
        "scaled_df = pd.DataFrame(data=scaled_data, columns=df.columns, index = df.index)"
      ],
      "metadata": {
        "id": "LhHFcWL_hsRk"
      },
      "execution_count": null,
      "outputs": []
    },
    {
      "cell_type": "code",
      "source": [
        "fig = px.line(scaled_df, x=scaled_df.index, y=scaled_df.columns)\n",
        "fig.update_xaxes(\n",
        "    dtick=\"M1\",\n",
        "    tickformat=\"%b\\n%Y\")\n",
        "fig.show()"
      ],
      "metadata": {
        "id": "MJT0vZTDiY4P"
      },
      "execution_count": null,
      "outputs": []
    }
  ]
}